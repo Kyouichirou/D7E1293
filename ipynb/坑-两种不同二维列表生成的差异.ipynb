{
 "cells": [
  {
   "cell_type": "code",
   "execution_count": 1,
   "id": "48b974da",
   "metadata": {},
   "outputs": [],
   "source": [
    "a = [[1] * 5] * 5"
   ]
  },
  {
   "cell_type": "code",
   "execution_count": 2,
   "id": "b8bad9a4",
   "metadata": {},
   "outputs": [
    {
     "data": {
      "text/plain": [
       "[[1, 1, 1, 1, 1],\n",
       " [1, 1, 1, 1, 1],\n",
       " [1, 1, 1, 1, 1],\n",
       " [1, 1, 1, 1, 1],\n",
       " [1, 1, 1, 1, 1]]"
      ]
     },
     "execution_count": 2,
     "metadata": {},
     "output_type": "execute_result"
    }
   ],
   "source": [
    "a"
   ]
  },
  {
   "cell_type": "code",
   "execution_count": 3,
   "id": "593bbe29",
   "metadata": {},
   "outputs": [],
   "source": [
    "b = [[1 for _ in range(5)] for _ in range(5)]"
   ]
  },
  {
   "cell_type": "code",
   "execution_count": 5,
   "id": "d194385b",
   "metadata": {},
   "outputs": [
    {
     "data": {
      "text/plain": [
       "[[1, 1, 1, 1, 1],\n",
       " [1, 1, 1, 1, 1],\n",
       " [1, 1, 1, 1, 1],\n",
       " [1, 1, 1, 1, 1],\n",
       " [1, 1, 1, 1, 1]]"
      ]
     },
     "execution_count": 5,
     "metadata": {},
     "output_type": "execute_result"
    }
   ],
   "source": [
    "b"
   ]
  },
  {
   "cell_type": "markdown",
   "id": "91eaebbd",
   "metadata": {},
   "source": [
    "a, b两种方式开起来是一样的, 都是生成二维数组, 但 ... ? 是否存在差异呢?"
   ]
  },
  {
   "cell_type": "code",
   "execution_count": 6,
   "id": "3bdccd5f",
   "metadata": {},
   "outputs": [],
   "source": [
    "a[0][0] = 10"
   ]
  },
  {
   "cell_type": "code",
   "execution_count": 7,
   "id": "fc4fcc07",
   "metadata": {},
   "outputs": [
    {
     "data": {
      "text/plain": [
       "[[10, 1, 1, 1, 1],\n",
       " [10, 1, 1, 1, 1],\n",
       " [10, 1, 1, 1, 1],\n",
       " [10, 1, 1, 1, 1],\n",
       " [10, 1, 1, 1, 1]]"
      ]
     },
     "execution_count": 7,
     "metadata": {},
     "output_type": "execute_result"
    }
   ],
   "source": [
    "a"
   ]
  },
  {
   "cell_type": "markdown",
   "id": "0f545598",
   "metadata": {},
   "source": [
    "## a只要修改其中的一个值, 其他的数据会同时改变"
   ]
  },
  {
   "cell_type": "code",
   "execution_count": 10,
   "id": "ec79d20e",
   "metadata": {},
   "outputs": [],
   "source": [
    "b[0][0] = 10"
   ]
  },
  {
   "cell_type": "code",
   "execution_count": 11,
   "id": "bf79b743",
   "metadata": {},
   "outputs": [
    {
     "data": {
      "text/plain": [
       "[[10, 1, 1, 1, 1],\n",
       " [1, 1, 1, 1, 1],\n",
       " [1, 1, 1, 1, 1],\n",
       " [1, 1, 1, 1, 1],\n",
       " [1, 1, 1, 1, 1]]"
      ]
     },
     "execution_count": 11,
     "metadata": {},
     "output_type": "execute_result"
    }
   ],
   "source": [
    "b"
   ]
  },
  {
   "cell_type": "markdown",
   "id": "6e52de8b",
   "metadata": {},
   "source": [
    "## b修改只会修改对应的值"
   ]
  },
  {
   "cell_type": "code",
   "execution_count": 14,
   "id": "06c491e0",
   "metadata": {},
   "outputs": [
    {
     "name": "stdout",
     "output_type": "stream",
     "text": [
      "2995316327104\n",
      "2995316327104\n",
      "2995316327104\n",
      "2995316327104\n",
      "2995316327104\n"
     ]
    }
   ],
   "source": [
    "for e in a:\n",
    "    print(id(e))"
   ]
  },
  {
   "cell_type": "markdown",
   "id": "51a7c3ac",
   "metadata": {},
   "source": [
    "使用 \"\\*\" 符号生成的二维列表, 是共享内存地址的"
   ]
  },
  {
   "cell_type": "code",
   "execution_count": 15,
   "id": "b970259f",
   "metadata": {},
   "outputs": [
    {
     "name": "stdout",
     "output_type": "stream",
     "text": [
      "2995320755392\n",
      "2995320779584\n",
      "2995320353600\n",
      "2995320301248\n",
      "2995321229248\n"
     ]
    }
   ],
   "source": [
    "for e in b:\n",
    "    print(id(e))"
   ]
  },
  {
   "cell_type": "code",
   "execution_count": null,
   "id": "dfd1698d",
   "metadata": {},
   "outputs": [],
   "source": []
  }
 ],
 "metadata": {
  "kernelspec": {
   "display_name": "Python 3 (ipykernel)",
   "language": "python",
   "name": "python3"
  },
  "language_info": {
   "codemirror_mode": {
    "name": "ipython",
    "version": 3
   },
   "file_extension": ".py",
   "mimetype": "text/x-python",
   "name": "python",
   "nbconvert_exporter": "python",
   "pygments_lexer": "ipython3",
   "version": "3.9.7"
  }
 },
 "nbformat": 4,
 "nbformat_minor": 5
}
