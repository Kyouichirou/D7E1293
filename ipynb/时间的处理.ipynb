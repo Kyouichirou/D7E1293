{
 "cells": [
  {
   "cell_type": "code",
   "execution_count": 17,
   "id": "ecdc69a6",
   "metadata": {},
   "outputs": [],
   "source": [
    "import pytz\n",
    "from pytz import timezone\n",
    "from datetime import datetime\n",
    "from dateutil import parser, tz\n",
    "from dateutil.tz import tzoffset"
   ]
  },
  {
   "cell_type": "markdown",
   "id": "d9699058",
   "metadata": {},
   "source": [
    "## 时间的处理\n",
    "\n",
    "*跨时区的时间处理和跨国家的数字的处理都是一件麻烦事*\n",
    "\n",
    "1. 主要解决不同地区的时间转北京时间的问题\n",
    "\n",
    "2. GMT, UTC(带有时间偏移和不带时间偏移)\n",
    "\n",
    "处理上, 主要以来于pytz, datetime dateutil这三个库\n",
    "\n",
    "三大库的作用在于:\n",
    "\n",
    "1. 时区\n",
    "2. 格式化时间\n",
    "3. 识别时间\n",
    "\n",
    "各种时区的参照, 主要是这个站点: [世界时间](https://24timezones.com/map_zh.php#/map)\n",
    "\n",
    "当然也可以直接打印出所有的时区, 通过pytz"
   ]
  },
  {
   "cell_type": "markdown",
   "id": "d3d3925c",
   "metadata": {},
   "source": [
    "## 获取到所有时区的信息"
   ]
  },
  {
   "cell_type": "code",
   "execution_count": 56,
   "id": "bf437695",
   "metadata": {},
   "outputs": [
    {
     "name": "stdout",
     "output_type": "stream",
     "text": [
      "('AD', ['Europe/Andorra'])\n",
      "('AE', ['Asia/Dubai'])\n",
      "('AF', ['Asia/Kabul'])\n",
      "('AG', ['America/Antigua'])\n",
      "('AI', ['America/Anguilla'])\n",
      "('AL', ['Europe/Tirane'])\n",
      "('AM', ['Asia/Yerevan'])\n",
      "('AO', ['Africa/Luanda'])\n",
      "('AQ', ['Antarctica/McMurdo', 'Antarctica/Casey', 'Antarctica/Davis', 'Antarctica/DumontDUrville', 'Antarctica/Mawson', 'Antarctica/Palmer', 'Antarctica/Rothera', 'Antarctica/Syowa', 'Antarctica/Troll', 'Antarctica/Vostok'])\n",
      "('AR', ['America/Argentina/Buenos_Aires', 'America/Argentina/Cordoba', 'America/Argentina/Salta', 'America/Argentina/Jujuy', 'America/Argentina/Tucuman', 'America/Argentina/Catamarca', 'America/Argentina/La_Rioja', 'America/Argentina/San_Juan', 'America/Argentina/Mendoza', 'America/Argentina/San_Luis', 'America/Argentina/Rio_Gallegos', 'America/Argentina/Ushuaia'])\n"
     ]
    }
   ],
   "source": [
    "i_index = 0\n",
    "for t in pytz.country_timezones.items():\n",
    "    if i_index < 10:\n",
    "        print(t)\n",
    "    i_index += 1"
   ]
  },
  {
   "cell_type": "markdown",
   "id": "e4a640ca",
   "metadata": {},
   "source": [
    "## 不同时区时间统一转换为北京时间\n",
    "\n",
    "1. 统一转为北京(上海)时间, 同时不需要带有北京(上海)所在的时区信息, 只需要获得对应的时间即可\n",
    "\n",
    "\n",
    "2. tzinfo=None, 这个用于消除生成的时间带有的时区信息"
   ]
  },
  {
   "cell_type": "markdown",
   "id": "0bb6fe1d",
   "metadata": {},
   "source": [
    "### 1. 无时间偏移的时间字符串\n",
    "\n",
    "也可以理解, 指定了具体的时区的\n",
    "\n",
    "这是一个日本的时间案例, **2018/07/05 16:22:01JST**\n",
    "\n",
    "即JST时区\n",
    "\n",
    "对于指定时区的字符串, 这是相对容易处理的, 只需要找到其对应的时区即可"
   ]
  },
  {
   "cell_type": "code",
   "execution_count": 227,
   "id": "652e48fa",
   "metadata": {},
   "outputs": [],
   "source": [
    "s_date = '2018/07/05 16:22:01JST'"
   ]
  },
  {
   "cell_type": "code",
   "execution_count": 228,
   "id": "dc3d296f",
   "metadata": {},
   "outputs": [],
   "source": [
    "tz_dict = {'JST': tz.gettz('Asia/Tokyo')}"
   ]
  },
  {
   "cell_type": "code",
   "execution_count": 229,
   "id": "9ad4cc0a",
   "metadata": {},
   "outputs": [],
   "source": [
    "d = parser.parse(s_date, tzinfos=tz_dict)"
   ]
  },
  {
   "cell_type": "code",
   "execution_count": 230,
   "id": "aef6f444",
   "metadata": {},
   "outputs": [
    {
     "data": {
      "text/plain": [
       "datetime.datetime(2018, 7, 5, 15, 22, 1)"
      ]
     },
     "execution_count": 230,
     "metadata": {},
     "output_type": "execute_result"
    }
   ],
   "source": [
    "d.astimezone(tz=timezone('Asia/Shanghai')).replace(tzinfo=None)"
   ]
  },
  {
   "cell_type": "markdown",
   "id": "eb886f4c",
   "metadata": {},
   "source": [
    "东京时间和北京时间相差1个小时"
   ]
  },
  {
   "cell_type": "markdown",
   "id": "ef5fee51",
   "metadata": {},
   "source": [
    "除此之外需要注意美国这种使用不同时区的国家\n",
    "\n",
    "这是一个美国的案例, 分别为PST时间和PDT时间\n",
    "\n",
    "**Jul 1, 2018 12:17:13 AM PDT**\n",
    "\n",
    "**Dec 1, 2020 9:15:25 AM PST**\n",
    "\n",
    "**PDT**, 即夏令时, 和北京时间相差**15**个小时\n",
    "**PST**, 即冬令时, 和北京时间相差**16**个小时"
   ]
  },
  {
   "cell_type": "code",
   "execution_count": 234,
   "id": "1cc836be",
   "metadata": {},
   "outputs": [],
   "source": [
    "s_date = 'Jul 1, 2018 12:17:13 AM PDT'"
   ]
  },
  {
   "cell_type": "markdown",
   "id": "1dee3788",
   "metadata": {},
   "source": [
    "这里的PDT使用了MST的时间, 其他同样在此时区内的时间亦可"
   ]
  },
  {
   "cell_type": "code",
   "execution_count": 235,
   "id": "6a33d2b3",
   "metadata": {},
   "outputs": [],
   "source": [
    "tz_dict = {'PDT': tz.gettz('MST')}"
   ]
  },
  {
   "cell_type": "code",
   "execution_count": 236,
   "id": "4e104d4d",
   "metadata": {},
   "outputs": [],
   "source": [
    "d = parser.parse(s_date, tzinfos=tz_dict)"
   ]
  },
  {
   "cell_type": "code",
   "execution_count": 237,
   "id": "abf21846",
   "metadata": {},
   "outputs": [
    {
     "data": {
      "text/plain": [
       "datetime.datetime(2018, 7, 1, 15, 17, 13)"
      ]
     },
     "execution_count": 237,
     "metadata": {},
     "output_type": "execute_result"
    }
   ],
   "source": [
    "d.astimezone(tz=timezone('Asia/Shanghai')).replace(tzinfo=None)"
   ]
  },
  {
   "cell_type": "markdown",
   "id": "5b52d4c5",
   "metadata": {},
   "source": [
    "注意上面的时间12对应的是AM, 00:00, 相差15个小时, 即15"
   ]
  },
  {
   "cell_type": "markdown",
   "id": "63c1c137",
   "metadata": {},
   "source": [
    "同理, PST时间, 也是如此处理, 将tz_dict = {\"PST\": tz.gettz(\"US/Pacific\")}, 即变更对应的时区即可"
   ]
  },
  {
   "cell_type": "code",
   "execution_count": 9,
   "id": "410c78f5",
   "metadata": {},
   "outputs": [],
   "source": [
    "s_date = 'Dec 1, 2020 9:15:25 AM PST'"
   ]
  },
  {
   "cell_type": "code",
   "execution_count": 10,
   "id": "ecd0d95f",
   "metadata": {},
   "outputs": [],
   "source": [
    "tz_dict = {\"PST\": tz.gettz(\"US/Pacific\")}"
   ]
  },
  {
   "cell_type": "code",
   "execution_count": 11,
   "id": "be3e2ddc",
   "metadata": {},
   "outputs": [],
   "source": [
    "d = parser.parse(s_date, tzinfos=tz_dict)"
   ]
  },
  {
   "cell_type": "code",
   "execution_count": 16,
   "id": "20600a1c",
   "metadata": {},
   "outputs": [
    {
     "data": {
      "text/plain": [
       "datetime.datetime(2020, 12, 2, 1, 15, 25)"
      ]
     },
     "execution_count": 16,
     "metadata": {},
     "output_type": "execute_result"
    }
   ],
   "source": [
    "d.astimezone(tz=timezone('Asia/Shanghai')).replace(tzinfo=None)"
   ]
  },
  {
   "cell_type": "markdown",
   "id": "63df25e2",
   "metadata": {},
   "source": [
    "### 2. 带有时区和偏移的时间字符串\n",
    "\n",
    "这里的案例来自于澳大利亚的一个时间(注意澳大利亚也是一个多时区的国家)\n",
    "\n",
    "**18/01/2018 10:14:14 AM GMT+09:00**, 带有时间偏移(+09:00), GMT(格林尼治时间), 带有早上(A.M)\n",
    "\n",
    "这个时间偏移需要稍微解释一下, 这是表明的是在GMT+09:00下这个时区的在上10点, 不是其他时区的十点\n",
    "\n",
    "转换为北京时间应该是 **18/01/2018 09:14:14** AM, 北京的时间偏移是+08:00, 相应应该减少1个小时\n",
    "\n",
    "\n",
    "需要注意这里的GMT时间, 这是格林尼治时间, 即00:00所对应的时区, 和UTC时间, 在不考虑到秒(精度)的情况下, 可以认为二者是等价的(*注意时间的精度问题)"
   ]
  },
  {
   "cell_type": "markdown",
   "id": "0462c84e",
   "metadata": {},
   "source": [
    "#### 00:00偏移\n",
    "\n",
    "这里先看两个带有00:00的UTC和GMT时间\n",
    "\n",
    "**03.07.2018 00:25:46 GMT+00:00**, 这是一个德国时间\n",
    "\n",
    "**6 juil. 2018 14:30:37 UTC+00:00**, 这是一个法国时间\n",
    "\n",
    "注意法国时间的月份缩写, dateutil的parser只能处理英文状态下的缩写, 后面的处理需要将这个单词变更为英文的\"july\""
   ]
  },
  {
   "cell_type": "code",
   "execution_count": 238,
   "id": "56eac2bb",
   "metadata": {},
   "outputs": [],
   "source": [
    "d_d = parser.parse('03.07.2018 00:25:46 GMT+00:00')"
   ]
  },
  {
   "cell_type": "code",
   "execution_count": 239,
   "id": "ab8ff720",
   "metadata": {},
   "outputs": [
    {
     "data": {
      "text/plain": [
       "datetime.datetime(2018, 3, 7, 0, 25, 46, tzinfo=tzutc())"
      ]
     },
     "execution_count": 239,
     "metadata": {},
     "output_type": "execute_result"
    }
   ],
   "source": [
    "d_d"
   ]
  },
  {
   "cell_type": "code",
   "execution_count": 241,
   "id": "e752be14",
   "metadata": {},
   "outputs": [],
   "source": [
    "d_f = parser.parse('6 july. 2018 14:30:37 UTC+00:00')"
   ]
  },
  {
   "cell_type": "code",
   "execution_count": 242,
   "id": "2d3f2168",
   "metadata": {},
   "outputs": [
    {
     "data": {
      "text/plain": [
       "datetime.datetime(2018, 7, 6, 14, 30, 37, tzinfo=tzutc())"
      ]
     },
     "execution_count": 242,
     "metadata": {},
     "output_type": "execute_result"
    }
   ],
   "source": [
    "d_f"
   ]
  },
  {
   "cell_type": "markdown",
   "id": "5a943713",
   "metadata": {},
   "source": [
    "上述的两个时间, 其对应的时区都被指向 **\"tzinfo=tzutc()\"**"
   ]
  },
  {
   "cell_type": "code",
   "execution_count": 250,
   "id": "a05154ea",
   "metadata": {},
   "outputs": [],
   "source": [
    "d_o = parser.parse('18/01/2018 10:14:14 AM GMT+09:00')"
   ]
  },
  {
   "cell_type": "code",
   "execution_count": 251,
   "id": "2ec29029",
   "metadata": {},
   "outputs": [
    {
     "data": {
      "text/plain": [
       "datetime.datetime(2018, 1, 18, 10, 14, 14, tzinfo=tzoffset(None, -32400))"
      ]
     },
     "execution_count": 251,
     "metadata": {},
     "output_type": "execute_result"
    }
   ],
   "source": [
    "d_o"
   ]
  },
  {
   "cell_type": "code",
   "execution_count": 245,
   "id": "85503d87",
   "metadata": {},
   "outputs": [
    {
     "data": {
      "text/plain": [
       "datetime.datetime(2018, 7, 6, 22, 30, 37)"
      ]
     },
     "execution_count": 245,
     "metadata": {},
     "output_type": "execute_result"
    }
   ],
   "source": [
    "d_f.astimezone(tz=timezone('Asia/Shanghai')).replace(tzinfo=None)"
   ]
  },
  {
   "cell_type": "code",
   "execution_count": 252,
   "id": "7a2f96ff",
   "metadata": {},
   "outputs": [
    {
     "data": {
      "text/plain": [
       "datetime.datetime(2018, 1, 19, 3, 14, 14)"
      ]
     },
     "execution_count": 252,
     "metadata": {},
     "output_type": "execute_result"
    }
   ],
   "source": [
    "d_o.astimezone(tz=timezone('Asia/Shanghai')).replace(tzinfo=None)"
   ]
  },
  {
   "cell_type": "markdown",
   "id": "e38c6c26",
   "metadata": {},
   "source": [
    "当GMT的偏移不是0时, 直接处理并没有得到正确的结果, 这个时间被按照10 + 8 + 9 - 24 = 3, 来计算了, 故而时间被算到了19号的3点"
   ]
  },
  {
   "cell_type": "markdown",
   "id": "b6434e9e",
   "metadata": {},
   "source": [
    "#### 注意事项\n",
    "\n",
    "这涉及到一个时区处理的问题, 详情参阅[Etc/GMT time zone](https://newbedev.com/understanding-the-etc-gmt-time-zone)\n",
    "\n",
    "Time zone names are generally in the format Continent/Region, such as America/Edmonton, Europe/Paris, Africa/Tunis, Asia/Kolkata, and Pacific/Auckland. See this list on Wikipedia (may not be up-to-date). There are some exceptions. The Etc/GMT… names carry the opposite plus/minus convention:\n",
    "\n",
    "Etc/GMT+1 = -01:00 offset = One hour behind UTC\n",
    "Etc/GMT+12 = -12:00 offset = Twelve hours behind UTC\n",
    "…and…\n",
    "\n",
    "Etc/GMT-1 = +01:00 offset = One hour ahead of UTC\n",
    "Etc/GMT-12 = +12:00 offset = Twelve hours ahead of UTC\n",
    "Confusing? Welcome to the wacky world of date-time handling. It only gets weirder from here.\n",
    "\n",
    "也就是说实际上处理之后和实际是相反的(可以看到时间, 数字在各个国家实现统一是多么麻烦的事)"
   ]
  },
  {
   "cell_type": "code",
   "execution_count": 253,
   "id": "aa0bbb9a",
   "metadata": {},
   "outputs": [],
   "source": [
    "d_o = parser.parse('18/01/2018 10:14:14 AM GMT-09:00')"
   ]
  },
  {
   "cell_type": "code",
   "execution_count": 254,
   "id": "3bdb7947",
   "metadata": {},
   "outputs": [
    {
     "data": {
      "text/plain": [
       "datetime.datetime(2018, 1, 18, 9, 14, 14)"
      ]
     },
     "execution_count": 254,
     "metadata": {},
     "output_type": "execute_result"
    }
   ],
   "source": [
    "d_o.astimezone(tz=timezone('Asia/Shanghai')).replace(tzinfo=None)"
   ]
  },
  {
   "cell_type": "markdown",
   "id": "29756c19",
   "metadata": {},
   "source": [
    "如此方能得到正确的对应的转换时间, 将'18/01/2018 10:14:14 AM GMT+09:00'的 **\"+\"**, 进行变换"
   ]
  },
  {
   "cell_type": "code",
   "execution_count": 2,
   "id": "06e36100",
   "metadata": {},
   "outputs": [],
   "source": [
    "d_o = parser.parse('18/01/2018 10:14:14 AM GMT+09:00')"
   ]
  },
  {
   "cell_type": "code",
   "execution_count": 18,
   "id": "a243d31e",
   "metadata": {},
   "outputs": [
    {
     "data": {
      "text/plain": [
       "tzoffset(None, -32400)"
      ]
     },
     "execution_count": 18,
     "metadata": {},
     "output_type": "execute_result"
    }
   ],
   "source": [
    "d_o.tzinfo"
   ]
  },
  {
   "cell_type": "markdown",
   "id": "acb38c3f",
   "metadata": {},
   "source": [
    "注意这里的偏移值变成了负数"
   ]
  },
  {
   "cell_type": "code",
   "execution_count": 36,
   "id": "46813b6b",
   "metadata": {},
   "outputs": [],
   "source": [
    "d_x = d_o.replace(tzinfo=tzoffset(None, 32400))"
   ]
  },
  {
   "cell_type": "code",
   "execution_count": 37,
   "id": "53d5c80b",
   "metadata": {},
   "outputs": [
    {
     "data": {
      "text/plain": [
       "datetime.datetime(2018, 1, 18, 9, 14, 14)"
      ]
     },
     "execution_count": 37,
     "metadata": {},
     "output_type": "execute_result"
    }
   ],
   "source": [
    "d_x.astimezone(tz=timezone('Asia/Shanghai')).replace(tzinfo=None)"
   ]
  },
  {
   "cell_type": "markdown",
   "id": "2aef376b",
   "metadata": {},
   "source": [
    "### 其他\n",
    "\n",
    "获取时间对应的星期, 有两个函数, 区别是否为从0开始"
   ]
  },
  {
   "cell_type": "code",
   "execution_count": 38,
   "id": "830b40ab",
   "metadata": {},
   "outputs": [
    {
     "data": {
      "text/plain": [
       "4"
      ]
     },
     "execution_count": 38,
     "metadata": {},
     "output_type": "execute_result"
    }
   ],
   "source": [
    "d_x.isoweekday()"
   ]
  },
  {
   "cell_type": "code",
   "execution_count": 39,
   "id": "edd3c3fb",
   "metadata": {},
   "outputs": [
    {
     "data": {
      "text/plain": [
       "3"
      ]
     },
     "execution_count": 39,
     "metadata": {},
     "output_type": "execute_result"
    }
   ],
   "source": [
    "d_x.weekday()"
   ]
  },
  {
   "cell_type": "markdown",
   "id": "c42e838a",
   "metadata": {},
   "source": [
    "#### 参考\n",
    "\n",
    "\n",
    "[datetime-tzinfo](https://pl.python.org/docs/lib/datetime-tzinfo.html)\n",
    "\n",
    "\n",
    "[dateutil-doc](https://dateutil.readthedocs.io/en/stable/)"
   ]
  },
  {
   "cell_type": "code",
   "execution_count": null,
   "id": "f2d36d3f",
   "metadata": {},
   "outputs": [],
   "source": []
  },
  {
   "cell_type": "code",
   "execution_count": null,
   "id": "ca1ed352",
   "metadata": {},
   "outputs": [],
   "source": []
  }
 ],
 "metadata": {
  "kernelspec": {
   "display_name": "Python 3 (ipykernel)",
   "language": "python",
   "name": "python3"
  },
  "language_info": {
   "codemirror_mode": {
    "name": "ipython",
    "version": 3
   },
   "file_extension": ".py",
   "mimetype": "text/x-python",
   "name": "python",
   "nbconvert_exporter": "python",
   "pygments_lexer": "ipython3",
   "version": "3.8.11"
  }
 },
 "nbformat": 4,
 "nbformat_minor": 5
}
