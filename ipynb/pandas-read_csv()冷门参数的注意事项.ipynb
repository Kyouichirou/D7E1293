{
 "cells": [
  {
   "cell_type": "code",
   "execution_count": 1,
   "id": "82f8adea",
   "metadata": {},
   "outputs": [],
   "source": [
    "import pandas as pd"
   ]
  },
  {
   "cell_type": "markdown",
   "id": "ac704ed0",
   "metadata": {},
   "source": [
    "## read_csv\n",
    "\n",
    "主要涉及相对少使用的engine='python'\n",
    "\n",
    "**参数支持**:\n",
    "pandas.read_csv(\n",
    "    filepath_or_buffer, \n",
    "    sep=_NoDefault.no_default, \n",
    "    delimiter=None,\n",
    "    header='infer', \n",
    "    names=_NoDefault.no_default, \n",
    "    index_col=None, \n",
    "    usecols=None, squeeze=None, \n",
    "    prefix=_NoDefault.no_default, \n",
    "    mangle_dupe_cols=True, \n",
    "    dtype=None, \n",
    "    **engine=None**, \n",
    "    converters=None, \n",
    "    true_values=None, \n",
    "    false_values=None, \n",
    "    skipinitialspace=False, \n",
    "    skiprows=None, \n",
    "    skipfooter=0, \n",
    "    nrows=None, \n",
    "    na_values=None, \n",
    "    keep_default_na=True, \n",
    "    na_filter=True, \n",
    "    verbose=False,\n",
    "    skip_blank_lines=True,\n",
    "    parse_dates=None, \n",
    "    infer_datetime_format=False, \n",
    "    keep_date_col=False, \n",
    "    date_parser=None, \n",
    "    dayfirst=False,\n",
    "    cache_dates=True, \n",
    "    iterator=False, \n",
    "    chunksize=None, \n",
    "    compression='infer', \n",
    "    thousands=None, decimal='.', \n",
    "    lineterminator=None, quotechar='\"', \n",
    "    quoting=0, doublequote=True, \n",
    "    escapechar=None, \n",
    "    comment=None,\n",
    "    encoding=None,\n",
    "    encoding_errors='strict', \n",
    "    dialect=None, \n",
    "    error_bad_lines=None, \n",
    "    warn_bad_lines=None, \n",
    "    on_bad_lines=None, \n",
    "    delim_whitespace=False, \n",
    "    low_memory=True, \n",
    "    memory_map=False, \n",
    "    float_precision=None, \n",
    "    storage_options=None\n",
    ")"
   ]
  },
  {
   "cell_type": "markdown",
   "id": "ddcddf0f",
   "metadata": {},
   "source": [
    "## 问题源\n",
    "\n",
    "读取的某个amazon欧洲站点的数据, 发现欧洲的一些数字上的标识方式和中国, 美国的有一些差异\n",
    "\n",
    "1. 小数点, 使用的是\",\"(**逗号**)标识\n",
    "2. 千分位, 有使用的\".\"(**点符号**)标识, 也有使用空格符号来标识, 但是需要注意使用的空格符号, 也不是美式键盘输入的空格(unicode = 32), 而是使用的是unicode160和unicode8239(好像还有unicode53).\n",
    "3. 负号(-), 瑞典的符号使用的是unicode8722, 而不是常用的unicode45"
   ]
  },
  {
   "cell_type": "markdown",
   "id": "28b92b4a",
   "metadata": {},
   "source": [
    "## 处理方式\n",
    "\n",
    "![图示](https://p0.meituan.net/csc/80c282ac83e8f26a726e22bdfa3e597f30767.png)\n",
    "\n",
    "1. 小数点中的decimal, 这个没有什么问题, 指定\",\"即可(但是需要注意的是read_excel()不支持这个参数, 但是pandas的doc当中依然提及这个参数)\n",
    "2. 问题出现在千分位中的空格符号上, 直接通过thousands=chr(8239), 并无法准确处理表格的数据, 带有空格的千分位依然被当成字符串(object)来处理\n",
    "3. 取出部分的数据, 进行测试, 通过调节**engine**=\"python\", 成功处理这个空格, 但是在使用更多数据进行测试, 发现读取数据错误.\n",
    "4. 通过调整encoding参数(默认utf-8), 改为西欧字符cp850, 以及其他的几种字符, 发现虽然可以正确读取数据, 但是无法有效处理空格千位符的数字\n",
    "5. 后面查询发现, 测试的csv文件是带有**BOM**头的文件, 查阅文档发现, pandas处理带有BOM文件的encoding类型中有一个'**utf-8-sig**'的编码方式\n",
    "\n",
    "![bom](https://p0.meituan.net/csc/1d2bc839498f103c3736f44faffd02db115914.png)"
   ]
  },
  {
   "cell_type": "code",
   "execution_count": 11,
   "id": "1deac15f",
   "metadata": {},
   "outputs": [],
   "source": [
    "filepath = '法国Test.csv'\n",
    "df = pd.read_csv(filepath, header=7, thousands=chr(8239), decimal=',', encoding='utf-8-sig', engine=\"python\")"
   ]
  },
  {
   "cell_type": "code",
   "execution_count": 6,
   "id": "2db264ae",
   "metadata": {},
   "outputs": [
    {
     "name": "stdout",
     "output_type": "stream",
     "text": [
      "<class 'pandas.core.frame.DataFrame'>\n",
      "RangeIndex: 404 entries, 0 to 403\n",
      "Data columns (total 27 columns):\n",
      " #   Column                                 Non-Null Count  Dtype  \n",
      "---  ------                                 --------------  -----  \n",
      " 0   date/heure                             404 non-null    object \n",
      " 1   numéro de versement                    404 non-null    int64  \n",
      " 2   type                                   396 non-null    object \n",
      " 3   numéro de la commande                  399 non-null    object \n",
      " 4   sku                                    383 non-null    object \n",
      " 5   description                            404 non-null    object \n",
      " 6   quantité                               391 non-null    float64\n",
      " 7   Marketplace                            390 non-null    object \n",
      " 8   traitement                             372 non-null    object \n",
      " 9   ville d'où provient la commande        372 non-null    object \n",
      " 10  Région d'où provient la commande       61 non-null     object \n",
      " 11  code postal de la commande             372 non-null    float64\n",
      " 12  Modèle de perception des taxes         361 non-null    object \n",
      " 13  ventes de produits                     404 non-null    float64\n",
      " 14  Taxes sur la vente des produits        404 non-null    float64\n",
      " 15  crédits d'expédition                   404 non-null    float64\n",
      " 16  taxe sur les crédits d’expédition      404 non-null    float64\n",
      " 17  crédits sur l'emballage cadeau         404 non-null    int64  \n",
      " 18  Taxes sur les crédits cadeaux          404 non-null    int64  \n",
      " 19  Rabais promotionnels                   404 non-null    float64\n",
      " 20  Taxes sur les remises promotionnelles  404 non-null    float64\n",
      " 21  Taxes retenues sur le site de vente    404 non-null    float64\n",
      " 22  frais de vente                         404 non-null    float64\n",
      " 23  Frais Expédié par Amazon               404 non-null    float64\n",
      " 24  autres frais de transaction            404 non-null    float64\n",
      " 25  autre                                  404 non-null    float64\n",
      " 26  total                                  404 non-null    float64\n",
      "dtypes: float64(14), int64(3), object(10)\n",
      "memory usage: 85.3+ KB\n"
     ]
    }
   ],
   "source": [
    "df.info()\n",
    "\n",
    "# 注意total项, 是数字项"
   ]
  },
  {
   "cell_type": "code",
   "execution_count": 12,
   "id": "bf469842",
   "metadata": {},
   "outputs": [
    {
     "data": {
      "text/plain": [
       "-6746.45"
      ]
     },
     "execution_count": 12,
     "metadata": {},
     "output_type": "execute_result"
    }
   ],
   "source": [
    "# 数字\n",
    "df.loc[218, 'total']"
   ]
  },
  {
   "cell_type": "markdown",
   "id": "6c8e4c35",
   "metadata": {},
   "source": [
    "直接用utf-8处理, 将会出现报错"
   ]
  },
  {
   "cell_type": "code",
   "execution_count": 7,
   "id": "86ca27d6",
   "metadata": {},
   "outputs": [
    {
     "ename": "ValueError",
     "evalue": "substring not found",
     "output_type": "error",
     "traceback": [
      "\u001b[1;31m---------------------------------------------------------------------------\u001b[0m",
      "\u001b[1;31mValueError\u001b[0m                                Traceback (most recent call last)",
      "\u001b[1;32m~\\AppData\\Local\\Temp/ipykernel_19048/622661577.py\u001b[0m in \u001b[0;36m<module>\u001b[1;34m\u001b[0m\n\u001b[1;32m----> 1\u001b[1;33m \u001b[0mdf\u001b[0m \u001b[1;33m=\u001b[0m \u001b[0mpd\u001b[0m\u001b[1;33m.\u001b[0m\u001b[0mread_csv\u001b[0m\u001b[1;33m(\u001b[0m\u001b[0mfilepath\u001b[0m\u001b[1;33m,\u001b[0m \u001b[0mheader\u001b[0m\u001b[1;33m=\u001b[0m\u001b[1;36m7\u001b[0m\u001b[1;33m,\u001b[0m \u001b[0mthousands\u001b[0m\u001b[1;33m=\u001b[0m\u001b[0mchr\u001b[0m\u001b[1;33m(\u001b[0m\u001b[1;36m8239\u001b[0m\u001b[1;33m)\u001b[0m\u001b[1;33m,\u001b[0m \u001b[0mdecimal\u001b[0m\u001b[1;33m=\u001b[0m\u001b[1;34m','\u001b[0m\u001b[1;33m,\u001b[0m \u001b[0mencoding\u001b[0m\u001b[1;33m=\u001b[0m\u001b[1;34m'utf-8'\u001b[0m\u001b[1;33m,\u001b[0m \u001b[0mengine\u001b[0m\u001b[1;33m=\u001b[0m\u001b[1;34m\"python\"\u001b[0m\u001b[1;33m)\u001b[0m\u001b[1;33m\u001b[0m\u001b[1;33m\u001b[0m\u001b[0m\n\u001b[0m",
      "\u001b[1;32m~\\anaconda3\\lib\\site-packages\\pandas\\util\\_decorators.py\u001b[0m in \u001b[0;36mwrapper\u001b[1;34m(*args, **kwargs)\u001b[0m\n\u001b[0;32m    309\u001b[0m                     \u001b[0mstacklevel\u001b[0m\u001b[1;33m=\u001b[0m\u001b[0mstacklevel\u001b[0m\u001b[1;33m,\u001b[0m\u001b[1;33m\u001b[0m\u001b[1;33m\u001b[0m\u001b[0m\n\u001b[0;32m    310\u001b[0m                 )\n\u001b[1;32m--> 311\u001b[1;33m             \u001b[1;32mreturn\u001b[0m \u001b[0mfunc\u001b[0m\u001b[1;33m(\u001b[0m\u001b[1;33m*\u001b[0m\u001b[0margs\u001b[0m\u001b[1;33m,\u001b[0m \u001b[1;33m**\u001b[0m\u001b[0mkwargs\u001b[0m\u001b[1;33m)\u001b[0m\u001b[1;33m\u001b[0m\u001b[1;33m\u001b[0m\u001b[0m\n\u001b[0m\u001b[0;32m    312\u001b[0m \u001b[1;33m\u001b[0m\u001b[0m\n\u001b[0;32m    313\u001b[0m         \u001b[1;32mreturn\u001b[0m \u001b[0mwrapper\u001b[0m\u001b[1;33m\u001b[0m\u001b[1;33m\u001b[0m\u001b[0m\n",
      "\u001b[1;32m~\\anaconda3\\lib\\site-packages\\pandas\\io\\parsers\\readers.py\u001b[0m in \u001b[0;36mread_csv\u001b[1;34m(filepath_or_buffer, sep, delimiter, header, names, index_col, usecols, squeeze, prefix, mangle_dupe_cols, dtype, engine, converters, true_values, false_values, skipinitialspace, skiprows, skipfooter, nrows, na_values, keep_default_na, na_filter, verbose, skip_blank_lines, parse_dates, infer_datetime_format, keep_date_col, date_parser, dayfirst, cache_dates, iterator, chunksize, compression, thousands, decimal, lineterminator, quotechar, quoting, doublequote, escapechar, comment, encoding, encoding_errors, dialect, error_bad_lines, warn_bad_lines, on_bad_lines, delim_whitespace, low_memory, memory_map, float_precision, storage_options)\u001b[0m\n\u001b[0;32m    584\u001b[0m     \u001b[0mkwds\u001b[0m\u001b[1;33m.\u001b[0m\u001b[0mupdate\u001b[0m\u001b[1;33m(\u001b[0m\u001b[0mkwds_defaults\u001b[0m\u001b[1;33m)\u001b[0m\u001b[1;33m\u001b[0m\u001b[1;33m\u001b[0m\u001b[0m\n\u001b[0;32m    585\u001b[0m \u001b[1;33m\u001b[0m\u001b[0m\n\u001b[1;32m--> 586\u001b[1;33m     \u001b[1;32mreturn\u001b[0m \u001b[0m_read\u001b[0m\u001b[1;33m(\u001b[0m\u001b[0mfilepath_or_buffer\u001b[0m\u001b[1;33m,\u001b[0m \u001b[0mkwds\u001b[0m\u001b[1;33m)\u001b[0m\u001b[1;33m\u001b[0m\u001b[1;33m\u001b[0m\u001b[0m\n\u001b[0m\u001b[0;32m    587\u001b[0m \u001b[1;33m\u001b[0m\u001b[0m\n\u001b[0;32m    588\u001b[0m \u001b[1;33m\u001b[0m\u001b[0m\n",
      "\u001b[1;32m~\\anaconda3\\lib\\site-packages\\pandas\\io\\parsers\\readers.py\u001b[0m in \u001b[0;36m_read\u001b[1;34m(filepath_or_buffer, kwds)\u001b[0m\n\u001b[0;32m    480\u001b[0m \u001b[1;33m\u001b[0m\u001b[0m\n\u001b[0;32m    481\u001b[0m     \u001b[1;31m# Create the parser.\u001b[0m\u001b[1;33m\u001b[0m\u001b[1;33m\u001b[0m\u001b[0m\n\u001b[1;32m--> 482\u001b[1;33m     \u001b[0mparser\u001b[0m \u001b[1;33m=\u001b[0m \u001b[0mTextFileReader\u001b[0m\u001b[1;33m(\u001b[0m\u001b[0mfilepath_or_buffer\u001b[0m\u001b[1;33m,\u001b[0m \u001b[1;33m**\u001b[0m\u001b[0mkwds\u001b[0m\u001b[1;33m)\u001b[0m\u001b[1;33m\u001b[0m\u001b[1;33m\u001b[0m\u001b[0m\n\u001b[0m\u001b[0;32m    483\u001b[0m \u001b[1;33m\u001b[0m\u001b[0m\n\u001b[0;32m    484\u001b[0m     \u001b[1;32mif\u001b[0m \u001b[0mchunksize\u001b[0m \u001b[1;32mor\u001b[0m \u001b[0miterator\u001b[0m\u001b[1;33m:\u001b[0m\u001b[1;33m\u001b[0m\u001b[1;33m\u001b[0m\u001b[0m\n",
      "\u001b[1;32m~\\anaconda3\\lib\\site-packages\\pandas\\io\\parsers\\readers.py\u001b[0m in \u001b[0;36m__init__\u001b[1;34m(self, f, engine, **kwds)\u001b[0m\n\u001b[0;32m    809\u001b[0m             \u001b[0mself\u001b[0m\u001b[1;33m.\u001b[0m\u001b[0moptions\u001b[0m\u001b[1;33m[\u001b[0m\u001b[1;34m\"has_index_names\"\u001b[0m\u001b[1;33m]\u001b[0m \u001b[1;33m=\u001b[0m \u001b[0mkwds\u001b[0m\u001b[1;33m[\u001b[0m\u001b[1;34m\"has_index_names\"\u001b[0m\u001b[1;33m]\u001b[0m\u001b[1;33m\u001b[0m\u001b[1;33m\u001b[0m\u001b[0m\n\u001b[0;32m    810\u001b[0m \u001b[1;33m\u001b[0m\u001b[0m\n\u001b[1;32m--> 811\u001b[1;33m         \u001b[0mself\u001b[0m\u001b[1;33m.\u001b[0m\u001b[0m_engine\u001b[0m \u001b[1;33m=\u001b[0m \u001b[0mself\u001b[0m\u001b[1;33m.\u001b[0m\u001b[0m_make_engine\u001b[0m\u001b[1;33m(\u001b[0m\u001b[0mself\u001b[0m\u001b[1;33m.\u001b[0m\u001b[0mengine\u001b[0m\u001b[1;33m)\u001b[0m\u001b[1;33m\u001b[0m\u001b[1;33m\u001b[0m\u001b[0m\n\u001b[0m\u001b[0;32m    812\u001b[0m \u001b[1;33m\u001b[0m\u001b[0m\n\u001b[0;32m    813\u001b[0m     \u001b[1;32mdef\u001b[0m \u001b[0mclose\u001b[0m\u001b[1;33m(\u001b[0m\u001b[0mself\u001b[0m\u001b[1;33m)\u001b[0m\u001b[1;33m:\u001b[0m\u001b[1;33m\u001b[0m\u001b[1;33m\u001b[0m\u001b[0m\n",
      "\u001b[1;32m~\\anaconda3\\lib\\site-packages\\pandas\\io\\parsers\\readers.py\u001b[0m in \u001b[0;36m_make_engine\u001b[1;34m(self, engine)\u001b[0m\n\u001b[0;32m   1038\u001b[0m             )\n\u001b[0;32m   1039\u001b[0m         \u001b[1;31m# error: Too many arguments for \"ParserBase\"\u001b[0m\u001b[1;33m\u001b[0m\u001b[1;33m\u001b[0m\u001b[0m\n\u001b[1;32m-> 1040\u001b[1;33m         \u001b[1;32mreturn\u001b[0m \u001b[0mmapping\u001b[0m\u001b[1;33m[\u001b[0m\u001b[0mengine\u001b[0m\u001b[1;33m]\u001b[0m\u001b[1;33m(\u001b[0m\u001b[0mself\u001b[0m\u001b[1;33m.\u001b[0m\u001b[0mf\u001b[0m\u001b[1;33m,\u001b[0m \u001b[1;33m**\u001b[0m\u001b[0mself\u001b[0m\u001b[1;33m.\u001b[0m\u001b[0moptions\u001b[0m\u001b[1;33m)\u001b[0m  \u001b[1;31m# type: ignore[call-arg]\u001b[0m\u001b[1;33m\u001b[0m\u001b[1;33m\u001b[0m\u001b[0m\n\u001b[0m\u001b[0;32m   1041\u001b[0m \u001b[1;33m\u001b[0m\u001b[0m\n\u001b[0;32m   1042\u001b[0m     \u001b[1;32mdef\u001b[0m \u001b[0m_failover_to_python\u001b[0m\u001b[1;33m(\u001b[0m\u001b[0mself\u001b[0m\u001b[1;33m)\u001b[0m\u001b[1;33m:\u001b[0m\u001b[1;33m\u001b[0m\u001b[1;33m\u001b[0m\u001b[0m\n",
      "\u001b[1;32m~\\anaconda3\\lib\\site-packages\\pandas\\io\\parsers\\python_parser.py\u001b[0m in \u001b[0;36m__init__\u001b[1;34m(self, f, **kwds)\u001b[0m\n\u001b[0;32m    111\u001b[0m                 \u001b[0mself\u001b[0m\u001b[1;33m.\u001b[0m\u001b[0mnum_original_columns\u001b[0m\u001b[1;33m,\u001b[0m\u001b[1;33m\u001b[0m\u001b[1;33m\u001b[0m\u001b[0m\n\u001b[0;32m    112\u001b[0m                 \u001b[0mself\u001b[0m\u001b[1;33m.\u001b[0m\u001b[0munnamed_cols\u001b[0m\u001b[1;33m,\u001b[0m\u001b[1;33m\u001b[0m\u001b[1;33m\u001b[0m\u001b[0m\n\u001b[1;32m--> 113\u001b[1;33m             ) = self._infer_columns()\n\u001b[0m\u001b[0;32m    114\u001b[0m         \u001b[1;32mexcept\u001b[0m \u001b[1;33m(\u001b[0m\u001b[0mTypeError\u001b[0m\u001b[1;33m,\u001b[0m \u001b[0mValueError\u001b[0m\u001b[1;33m)\u001b[0m\u001b[1;33m:\u001b[0m\u001b[1;33m\u001b[0m\u001b[1;33m\u001b[0m\u001b[0m\n\u001b[0;32m    115\u001b[0m             \u001b[0mself\u001b[0m\u001b[1;33m.\u001b[0m\u001b[0mclose\u001b[0m\u001b[1;33m(\u001b[0m\u001b[1;33m)\u001b[0m\u001b[1;33m\u001b[0m\u001b[1;33m\u001b[0m\u001b[0m\n",
      "\u001b[1;32m~\\anaconda3\\lib\\site-packages\\pandas\\io\\parsers\\python_parser.py\u001b[0m in \u001b[0;36m_infer_columns\u001b[1;34m(self)\u001b[0m\n\u001b[0;32m    374\u001b[0m             \u001b[1;32mfor\u001b[0m \u001b[0mlevel\u001b[0m\u001b[1;33m,\u001b[0m \u001b[0mhr\u001b[0m \u001b[1;32min\u001b[0m \u001b[0menumerate\u001b[0m\u001b[1;33m(\u001b[0m\u001b[0mheader\u001b[0m\u001b[1;33m)\u001b[0m\u001b[1;33m:\u001b[0m\u001b[1;33m\u001b[0m\u001b[1;33m\u001b[0m\u001b[0m\n\u001b[0;32m    375\u001b[0m                 \u001b[1;32mtry\u001b[0m\u001b[1;33m:\u001b[0m\u001b[1;33m\u001b[0m\u001b[1;33m\u001b[0m\u001b[0m\n\u001b[1;32m--> 376\u001b[1;33m                     \u001b[0mline\u001b[0m \u001b[1;33m=\u001b[0m \u001b[0mself\u001b[0m\u001b[1;33m.\u001b[0m\u001b[0m_buffered_line\u001b[0m\u001b[1;33m(\u001b[0m\u001b[1;33m)\u001b[0m\u001b[1;33m\u001b[0m\u001b[1;33m\u001b[0m\u001b[0m\n\u001b[0m\u001b[0;32m    377\u001b[0m \u001b[1;33m\u001b[0m\u001b[0m\n\u001b[0;32m    378\u001b[0m                     \u001b[1;32mwhile\u001b[0m \u001b[0mself\u001b[0m\u001b[1;33m.\u001b[0m\u001b[0mline_pos\u001b[0m \u001b[1;33m<=\u001b[0m \u001b[0mhr\u001b[0m\u001b[1;33m:\u001b[0m\u001b[1;33m\u001b[0m\u001b[1;33m\u001b[0m\u001b[0m\n",
      "\u001b[1;32m~\\anaconda3\\lib\\site-packages\\pandas\\io\\parsers\\python_parser.py\u001b[0m in \u001b[0;36m_buffered_line\u001b[1;34m(self)\u001b[0m\n\u001b[0;32m    582\u001b[0m             \u001b[1;32mreturn\u001b[0m \u001b[0mself\u001b[0m\u001b[1;33m.\u001b[0m\u001b[0mbuf\u001b[0m\u001b[1;33m[\u001b[0m\u001b[1;36m0\u001b[0m\u001b[1;33m]\u001b[0m\u001b[1;33m\u001b[0m\u001b[1;33m\u001b[0m\u001b[0m\n\u001b[0;32m    583\u001b[0m         \u001b[1;32melse\u001b[0m\u001b[1;33m:\u001b[0m\u001b[1;33m\u001b[0m\u001b[1;33m\u001b[0m\u001b[0m\n\u001b[1;32m--> 584\u001b[1;33m             \u001b[1;32mreturn\u001b[0m \u001b[0mself\u001b[0m\u001b[1;33m.\u001b[0m\u001b[0m_next_line\u001b[0m\u001b[1;33m(\u001b[0m\u001b[1;33m)\u001b[0m\u001b[1;33m\u001b[0m\u001b[1;33m\u001b[0m\u001b[0m\n\u001b[0m\u001b[0;32m    585\u001b[0m \u001b[1;33m\u001b[0m\u001b[0m\n\u001b[0;32m    586\u001b[0m     \u001b[1;32mdef\u001b[0m \u001b[0m_check_for_bom\u001b[0m\u001b[1;33m(\u001b[0m\u001b[0mself\u001b[0m\u001b[1;33m,\u001b[0m \u001b[0mfirst_row\u001b[0m\u001b[1;33m)\u001b[0m\u001b[1;33m:\u001b[0m\u001b[1;33m\u001b[0m\u001b[1;33m\u001b[0m\u001b[0m\n",
      "\u001b[1;32m~\\anaconda3\\lib\\site-packages\\pandas\\io\\parsers\\python_parser.py\u001b[0m in \u001b[0;36m_next_line\u001b[1;34m(self)\u001b[0m\n\u001b[0;32m    698\u001b[0m         \u001b[1;31m# beginning of it.\u001b[0m\u001b[1;33m\u001b[0m\u001b[1;33m\u001b[0m\u001b[0m\n\u001b[0;32m    699\u001b[0m         \u001b[1;32mif\u001b[0m \u001b[0mself\u001b[0m\u001b[1;33m.\u001b[0m\u001b[0mpos\u001b[0m \u001b[1;33m==\u001b[0m \u001b[1;36m1\u001b[0m\u001b[1;33m:\u001b[0m\u001b[1;33m\u001b[0m\u001b[1;33m\u001b[0m\u001b[0m\n\u001b[1;32m--> 700\u001b[1;33m             \u001b[0mline\u001b[0m \u001b[1;33m=\u001b[0m \u001b[0mself\u001b[0m\u001b[1;33m.\u001b[0m\u001b[0m_check_for_bom\u001b[0m\u001b[1;33m(\u001b[0m\u001b[0mline\u001b[0m\u001b[1;33m)\u001b[0m\u001b[1;33m\u001b[0m\u001b[1;33m\u001b[0m\u001b[0m\n\u001b[0m\u001b[0;32m    701\u001b[0m \u001b[1;33m\u001b[0m\u001b[0m\n\u001b[0;32m    702\u001b[0m         \u001b[0mself\u001b[0m\u001b[1;33m.\u001b[0m\u001b[0mline_pos\u001b[0m \u001b[1;33m+=\u001b[0m \u001b[1;36m1\u001b[0m\u001b[1;33m\u001b[0m\u001b[1;33m\u001b[0m\u001b[0m\n",
      "\u001b[1;32m~\\anaconda3\\lib\\site-packages\\pandas\\io\\parsers\\python_parser.py\u001b[0m in \u001b[0;36m_check_for_bom\u001b[1;34m(self, first_row)\u001b[0m\n\u001b[0;32m    619\u001b[0m             \u001b[0mstart\u001b[0m \u001b[1;33m=\u001b[0m \u001b[1;36m2\u001b[0m\u001b[1;33m\u001b[0m\u001b[1;33m\u001b[0m\u001b[0m\n\u001b[0;32m    620\u001b[0m             \u001b[0mquote\u001b[0m \u001b[1;33m=\u001b[0m \u001b[0mfirst_row_bom\u001b[0m\u001b[1;33m[\u001b[0m\u001b[1;36m1\u001b[0m\u001b[1;33m]\u001b[0m\u001b[1;33m\u001b[0m\u001b[1;33m\u001b[0m\u001b[0m\n\u001b[1;32m--> 621\u001b[1;33m             \u001b[0mend\u001b[0m \u001b[1;33m=\u001b[0m \u001b[0mfirst_row_bom\u001b[0m\u001b[1;33m[\u001b[0m\u001b[1;36m2\u001b[0m\u001b[1;33m:\u001b[0m\u001b[1;33m]\u001b[0m\u001b[1;33m.\u001b[0m\u001b[0mindex\u001b[0m\u001b[1;33m(\u001b[0m\u001b[0mquote\u001b[0m\u001b[1;33m)\u001b[0m \u001b[1;33m+\u001b[0m \u001b[1;36m2\u001b[0m\u001b[1;33m\u001b[0m\u001b[1;33m\u001b[0m\u001b[0m\n\u001b[0m\u001b[0;32m    622\u001b[0m \u001b[1;33m\u001b[0m\u001b[0m\n\u001b[0;32m    623\u001b[0m             \u001b[1;31m# Extract the data between the quotation marks\u001b[0m\u001b[1;33m\u001b[0m\u001b[1;33m\u001b[0m\u001b[0m\n",
      "\u001b[1;31mValueError\u001b[0m: substring not found"
     ]
    }
   ],
   "source": [
    "df = pd.read_csv(filepath, header=7, thousands=chr(8239), decimal=',', encoding='utf-8', engine=\"python\")"
   ]
  },
  {
   "cell_type": "code",
   "execution_count": 8,
   "id": "2af536a9",
   "metadata": {},
   "outputs": [],
   "source": [
    "df = pd.read_csv(filepath, header=7, thousands=chr(8239), decimal=',', encoding='utf-8')"
   ]
  },
  {
   "cell_type": "code",
   "execution_count": 9,
   "id": "2adae530",
   "metadata": {},
   "outputs": [
    {
     "name": "stdout",
     "output_type": "stream",
     "text": [
      "<class 'pandas.core.frame.DataFrame'>\n",
      "RangeIndex: 404 entries, 0 to 403\n",
      "Data columns (total 27 columns):\n",
      " #   Column                                 Non-Null Count  Dtype  \n",
      "---  ------                                 --------------  -----  \n",
      " 0   date/heure                             404 non-null    object \n",
      " 1   numéro de versement                    404 non-null    int64  \n",
      " 2   type                                   396 non-null    object \n",
      " 3   numéro de la commande                  399 non-null    object \n",
      " 4   sku                                    383 non-null    object \n",
      " 5   description                            404 non-null    object \n",
      " 6   quantité                               391 non-null    float64\n",
      " 7   Marketplace                            390 non-null    object \n",
      " 8   traitement                             372 non-null    object \n",
      " 9   ville d'où provient la commande        372 non-null    object \n",
      " 10  Région d'où provient la commande       61 non-null     object \n",
      " 11  code postal de la commande             372 non-null    float64\n",
      " 12  Modèle de perception des taxes         361 non-null    object \n",
      " 13  ventes de produits                     404 non-null    float64\n",
      " 14  Taxes sur la vente des produits        404 non-null    float64\n",
      " 15  crédits d'expédition                   404 non-null    float64\n",
      " 16  taxe sur les crédits d’expédition      404 non-null    float64\n",
      " 17  crédits sur l'emballage cadeau         404 non-null    int64  \n",
      " 18  Taxes sur les crédits cadeaux          404 non-null    int64  \n",
      " 19  Rabais promotionnels                   404 non-null    float64\n",
      " 20  Taxes sur les remises promotionnelles  404 non-null    float64\n",
      " 21  Taxes retenues sur le site de vente    404 non-null    float64\n",
      " 22  frais de vente                         404 non-null    float64\n",
      " 23  Frais Expédié par Amazon               404 non-null    float64\n",
      " 24  autres frais de transaction            404 non-null    float64\n",
      " 25  autre                                  404 non-null    object \n",
      " 26  total                                  404 non-null    object \n",
      "dtypes: float64(12), int64(3), object(12)\n",
      "memory usage: 85.3+ KB\n"
     ]
    }
   ],
   "source": [
    "df.info()"
   ]
  },
  {
   "cell_type": "markdown",
   "id": "e74b16ff",
   "metadata": {},
   "source": [
    "可以看到带有空格的数字没有被处理为float, 在不指定engine='python'时"
   ]
  },
  {
   "cell_type": "code",
   "execution_count": 10,
   "id": "467140e3",
   "metadata": {},
   "outputs": [
    {
     "data": {
      "text/plain": [
       "'-6\\u202f746,45'"
      ]
     },
     "execution_count": 10,
     "metadata": {},
     "output_type": "execute_result"
    }
   ],
   "source": [
    "# 文本\n",
    "\n",
    "df.loc[218, 'total']"
   ]
  },
  {
   "cell_type": "code",
   "execution_count": null,
   "id": "07db6d56",
   "metadata": {},
   "outputs": [],
   "source": [
    "## 关于engine\n",
    "\n",
    "engine{‘c’, ‘python’, ‘pyarrow’}, optional\n",
    "\n",
    "默认c, 读取速度最快\n",
    "\n",
    "python功能最全"
   ]
  }
 ],
 "metadata": {
  "kernelspec": {
   "display_name": "Python 3 (ipykernel)",
   "language": "python",
   "name": "python3"
  },
  "language_info": {
   "codemirror_mode": {
    "name": "ipython",
    "version": 3
   },
   "file_extension": ".py",
   "mimetype": "text/x-python",
   "name": "python",
   "nbconvert_exporter": "python",
   "pygments_lexer": "ipython3",
   "version": "3.9.7"
  }
 },
 "nbformat": 4,
 "nbformat_minor": 5
}
